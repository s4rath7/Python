{
 "cells": [
  {
   "cell_type": "code",
   "execution_count": 1,
   "metadata": {},
   "outputs": [
    {
     "name": "stdout",
     "output_type": "stream",
     "text": [
      "[1, 2, 3, 4, 5]\n",
      "1  is not divisible by 3\n",
      "2  is not divisible by 3\n",
      "3  is divisible by 3\n",
      "4  is not divisible by 3\n",
      "5  is not divisible by 3\n",
      "[1, 2, 3, 4, 5]\n",
      "Square of 2 is 4\n",
      "Square of 4 is 16\n"
     ]
    }
   ],
   "source": [
    "#DIVISIBLE BY 3\n",
    "list=[]\n",
    "l1=[]\n",
    "n=int(input(\"Enter number of elements: \"))\n",
    "for i in range (0,n):\n",
    "    e=int(input())\n",
    "    list.append(e)\n",
    "print(list)\n",
    "for i in range (0,n):\n",
    "    if(list[i]%3==0):\n",
    "        print(list[i],\" is divisible by 3\")\n",
    "    else:\n",
    "        print(list[i],\" is not divisible by 3\")\n",
    "\n"
   ]
  },
  {
   "cell_type": "code",
   "execution_count": 4,
   "metadata": {},
   "outputs": [
    {
     "name": "stdout",
     "output_type": "stream",
     "text": [
      "[1, 2, 3, 4, 5]\n",
      "Square of 2 is 4\n",
      "Square of 4 is 16\n",
      "Sum is  6\n",
      "[1, 2, 3, 4, 5]\n"
     ]
    }
   ],
   "source": [
    "#SQUARES OF EVEN NUMBERS\n",
    "#SUM OF EVEN NUMBERS\n",
    "sq=[]\n",
    "list=[]\n",
    "n=int(input(\"Enter number of elements: \"))\n",
    "for i in range (0,n):\n",
    "    e=int(input())\n",
    "    list.append(e)\n",
    "print(list)\n",
    "\n",
    "for x in list:\n",
    "    if x % 2 == 0:\n",
    "        print(f\"Square of {x} is {x*x}\")\n",
    "\n",
    "\n",
    "l2=[i for i in list if i%2==0]\n",
    "print(\"Sum is \",sum(l2))\n",
    "\n",
    "l3=[*set(list)]\n",
    "print(l3)"
   ]
  },
  {
   "cell_type": "code",
   "execution_count": 5,
   "metadata": {},
   "outputs": [
    {
     "name": "stdout",
     "output_type": "stream",
     "text": [
      "24/06/1987\n"
     ]
    }
   ],
   "source": [
    "#DICTIONARY QUESTION\n",
    "players={\"MESSI\":\"24/06/1987\",\"NEYMAR\":\"05/02/1992\",\"CRISTIANO\":\"05/02/1985\"}\n",
    "\n",
    "def birthdate():\n",
    "    key=input(\"Enter name\")\n",
    "    birthday=players[key]\n",
    "    print(birthday)\n",
    "\n",
    "birthdate()\n"
   ]
  }
 ],
 "metadata": {
  "kernelspec": {
   "display_name": "Python 3",
   "language": "python",
   "name": "python3"
  },
  "language_info": {
   "codemirror_mode": {
    "name": "ipython",
    "version": 3
   },
   "file_extension": ".py",
   "mimetype": "text/x-python",
   "name": "python",
   "nbconvert_exporter": "python",
   "pygments_lexer": "ipython3",
   "version": "3.10.2"
  },
  "orig_nbformat": 4
 },
 "nbformat": 4,
 "nbformat_minor": 2
}
